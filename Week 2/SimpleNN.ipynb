{
 "cells": [
  {
   "cell_type": "code",
   "execution_count": null,
   "id": "cc213459",
   "metadata": {},
   "outputs": [],
   "source": [
    "import numpy as np\n",
    "import os\n",
    "from tensorflow.keras.preprocessing.image import img_to_array, load_img\n",
    "from keras.models import Sequential\n",
    "from keras.layers import Dense, Flatten, Dropout\n",
    "from sklearn.model_selection import train_test_split"
   ]
  },
  {
   "cell_type": "code",
   "execution_count": null,
   "id": "775dc8d3",
   "metadata": {
    "lines_to_next_cell": 1
   },
   "outputs": [],
   "source": [
    "# Define image directory and target size\n",
    "image_directory = r'Week 2\\\\homer_bart'\n",
    "target_size = (64, 64)"
   ]
  },
  {
   "cell_type": "code",
   "execution_count": null,
   "id": "b619d4e1",
   "metadata": {
    "lines_to_next_cell": 1
   },
   "outputs": [],
   "source": [
    "# Load images and labels\n",
    "def load_images_and_labels(image_directory, target_size):\n",
    "    images = []\n",
    "    labels = []  # Assuming the folder names are the labels/classes\n",
    "\n",
    "    for label in os.listdir(image_directory):\n",
    "        class_path = os.path.join(image_directory, label)\n",
    "        if os.path.isdir(class_path):\n",
    "            for image_name in os.listdir(class_path):\n",
    "                image_path = os.path.join(class_path, image_name)\n",
    "                image = load_img(image_path, target_size=target_size)\n",
    "                image = img_to_array(image)\n",
    "                images.append(image)\n",
    "                labels.append(label)\n",
    "\n",
    "    images = np.array(images, dtype='float32') / 255.0  # Normalize images\n",
    "\n",
    "    label_to_int = {label: idx for idx, label in enumerate(set(labels))}\n",
    "    labels = [label_to_int[label] for label in labels]\n",
    "\n",
    "    labels = np.array(labels)\n",
    "    return images, labels"
   ]
  },
  {
   "cell_type": "code",
   "execution_count": null,
   "id": "edcdcbdb",
   "metadata": {},
   "outputs": [],
   "source": [
    "images, labels = load_images_and_labels(image_directory, target_size)"
   ]
  },
  {
   "cell_type": "code",
   "execution_count": null,
   "id": "3f58a9ad",
   "metadata": {},
   "outputs": [],
   "source": [
    "# Split the dataset\n",
    "X_train, X_test, y_train, y_test = train_test_split(images, labels, test_size=0.1, random_state=40)"
   ]
  },
  {
   "cell_type": "code",
   "execution_count": null,
   "id": "f5293dde",
   "metadata": {},
   "outputs": [],
   "source": [
    "# Define the model\n",
    "model = Sequential([\n",
    "    Flatten(input_shape=(64, 64, 3)),\n",
    "    Dense(512, activation='linear'),\n",
    "    # Dropout(0.1),  # Add dropout to prevent overfitting\n",
    "    Dense(256, activation='linear'),\n",
    "    # Dropout(0.1),  # Add dropout to prevent overfitting\n",
    "    \n",
    "    Dense(1, activation='sigmoid')  # Assuming binary classification\n",
    "])"
   ]
  },
  {
   "cell_type": "code",
   "execution_count": null,
   "id": "d6cb8d0f",
   "metadata": {},
   "outputs": [],
   "source": [
    "# Compile the model\n",
    "model.compile(optimizer='adam', loss='binary_crossentropy', metrics=['accuracy'])"
   ]
  },
  {
   "cell_type": "code",
   "execution_count": null,
   "id": "172811d8",
   "metadata": {},
   "outputs": [],
   "source": [
    "# Train the model\n",
    "model.fit(X_train, y_train, batch_size=32, epochs=100, verbose=1)"
   ]
  },
  {
   "cell_type": "code",
   "execution_count": null,
   "id": "2d438edc",
   "metadata": {},
   "outputs": [],
   "source": [
    "# Evaluate the model\n",
    "test_loss, test_acc = model.evaluate(X_test, y_test, verbose=1)\n",
    "print(f'Test accuracy: {test_acc}')"
   ]
  }
 ],
 "metadata": {
  "jupytext": {
   "cell_metadata_filter": "-all",
   "main_language": "python",
   "notebook_metadata_filter": "-all"
  },
  "kernelspec": {
   "display_name": "Python 3",
   "language": "python",
   "name": "python3"
  },
  "language_info": {
   "name": "python",
   "version": "3.12.3"
  }
 },
 "nbformat": 4,
 "nbformat_minor": 5
}
